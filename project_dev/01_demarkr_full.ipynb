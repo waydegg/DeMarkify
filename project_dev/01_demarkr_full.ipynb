{
 "cells": [
  {
   "cell_type": "markdown",
   "metadata": {},
   "source": [
    "# Baseline Demarkify Training Notebook\n",
    "\n",
    "Work here is for getting the basics down for the new Fastai v2 library and getting a working training loop with the \"NoGan\" method (or something else if that's easier). "
   ]
  },
  {
   "cell_type": "code",
   "execution_count": 1,
   "metadata": {},
   "outputs": [],
   "source": [
    "from fastai2.basics import *\n",
    "from fastai2.callback.all import *\n",
    "from fastai2.vision.all import *\n",
    "from fastai2.vision.gan import *\n",
    "from PIL import ImageDraw, ImageFont, ImageFile\n",
    "ImageFile.LOAD_TRUNCATED_IMAGES = False # ignores metadata of large, compressed images\n",
    "import pdb\n",
    "from tqdm import tqdm_notebook\n",
    "import gc\n",
    "\n",
    "from preprocess import *\n",
    "from train import *\n",
    "from config import *"
   ]
  },
  {
   "cell_type": "code",
   "execution_count": 2,
   "metadata": {
    "scrolled": true
   },
   "outputs": [
    {
     "name": "stdout",
     "output_type": "stream",
     "text": [
      "Using GeForce GTX 1080 Ti at index 0\n"
     ]
    }
   ],
   "source": [
    "gpu_idx = 0\n",
    "torch.cuda.set_device(gpu_idx)\n",
    "print(f\"Using {torch.cuda.get_device_name(gpu_idx)} at index {torch.cuda.current_device()}\")"
   ]
  },
  {
   "cell_type": "markdown",
   "metadata": {
    "heading_collapsed": true
   },
   "source": [
    "## Preprocessing"
   ]
  },
  {
   "cell_type": "markdown",
   "metadata": {
    "hidden": true
   },
   "source": [
    "Resize all \"clean\" images to have a max width/height of a reasonable size (1080px). Save to file. This takes some time to run!"
   ]
  },
  {
   "cell_type": "code",
   "execution_count": null,
   "metadata": {
    "hidden": true,
    "scrolled": true
   },
   "outputs": [],
   "source": [
    "# raw_images = get_image_files(RAW)\n",
    "# parallel(partial(create_clean_image, CLEAN), raw_images)"
   ]
  },
  {
   "cell_type": "markdown",
   "metadata": {
    "hidden": true
   },
   "source": [
    "Create marked images"
   ]
  },
  {
   "cell_type": "code",
   "execution_count": null,
   "metadata": {
    "hidden": true,
    "scrolled": true
   },
   "outputs": [],
   "source": [
    "# fonts = L(Path(DATA/\"fonts\").rglob(\"*.ttf\"))\n",
    "# clean_images = get_image_files(CLEAN)\n",
    "# markr = Markr(CLEAN, MARKED, fonts)\n",
    "\n",
    "# parallel(markr, clean_images, n_workers=12)\n",
    "\n",
    "# if len(markr.failed_images) != 0:\n",
    "#     print(\"Retrying failed images\")\n",
    "#     failed_images = markr.failed_images\n",
    "#     parallel(markr, failed_images)"
   ]
  },
  {
   "cell_type": "markdown",
   "metadata": {},
   "source": [
    "## Modeling"
   ]
  },
  {
   "cell_type": "markdown",
   "metadata": {
    "heading_collapsed": true
   },
   "source": [
    "### Pretrain Generator"
   ]
  },
  {
   "cell_type": "code",
   "execution_count": null,
   "metadata": {
    "hidden": true
   },
   "outputs": [],
   "source": [
    "bs = 88\n",
    "sz = 64\n",
    "keep_pct = 1.0\n",
    "arch = resnet34"
   ]
  },
  {
   "cell_type": "code",
   "execution_count": null,
   "metadata": {
    "hidden": true
   },
   "outputs": [],
   "source": [
    "dls_gen = get_dls(bs,sz,keep_pct)"
   ]
  },
  {
   "cell_type": "code",
   "execution_count": null,
   "metadata": {
    "hidden": true
   },
   "outputs": [],
   "source": [
    "dls_gen.show_batch(max_n=4)"
   ]
  },
  {
   "cell_type": "code",
   "execution_count": null,
   "metadata": {
    "hidden": true
   },
   "outputs": [],
   "source": [
    "wd = 1e-3\n",
    "y_range = (-3.,3.)\n",
    "loss_gen = MSELossFlat()"
   ]
  },
  {
   "cell_type": "code",
   "execution_count": null,
   "metadata": {
    "hidden": true
   },
   "outputs": [],
   "source": [
    "learn_gen = create_gen_learner(dls_gen, arch, loss_gen, y_range)"
   ]
  },
  {
   "cell_type": "code",
   "execution_count": null,
   "metadata": {
    "hidden": true
   },
   "outputs": [],
   "source": [
    "learn_gen.fit_one_cycle(1, pct_start=0.8, wd=wd)"
   ]
  },
  {
   "cell_type": "code",
   "execution_count": null,
   "metadata": {
    "hidden": true
   },
   "outputs": [],
   "source": [
    "learn_gen.unfreeze()"
   ]
  },
  {
   "cell_type": "code",
   "execution_count": null,
   "metadata": {
    "hidden": true
   },
   "outputs": [],
   "source": [
    "learn_gen.fit_one_cycle(1, pct_start=0.8, lr_max=slice(3e-7, 3e-4), wd=wd)"
   ]
  },
  {
   "cell_type": "code",
   "execution_count": null,
   "metadata": {
    "hidden": true
   },
   "outputs": [],
   "source": [
    "learn_gen.show_results(max_n=4)"
   ]
  },
  {
   "cell_type": "code",
   "execution_count": null,
   "metadata": {
    "hidden": true
   },
   "outputs": [],
   "source": [
    "learn_gen.save(f\"gen-pre-{sz}px\")"
   ]
  },
  {
   "cell_type": "code",
   "execution_count": null,
   "metadata": {
    "hidden": true
   },
   "outputs": [],
   "source": [
    "bs = 22\n",
    "sz = 128\n",
    "keep_pct = 1.0"
   ]
  },
  {
   "cell_type": "code",
   "execution_count": null,
   "metadata": {
    "hidden": true
   },
   "outputs": [],
   "source": [
    "learn_gen.dls = get_dls(bs, sz, keep_pct)"
   ]
  },
  {
   "cell_type": "code",
   "execution_count": null,
   "metadata": {
    "hidden": true,
    "scrolled": true
   },
   "outputs": [],
   "source": [
    "learn_gen.fit_one_cycle(1, pct_start=0.8, lr_max=slice(1e-7,1e-4))"
   ]
  },
  {
   "cell_type": "code",
   "execution_count": null,
   "metadata": {
    "hidden": true
   },
   "outputs": [],
   "source": [
    "learn_gen.show_results(max_n=4)"
   ]
  },
  {
   "cell_type": "code",
   "execution_count": null,
   "metadata": {
    "hidden": true
   },
   "outputs": [],
   "source": [
    "learn_gen.save(f\"gen-pre-{sz}px\")"
   ]
  },
  {
   "cell_type": "code",
   "execution_count": null,
   "metadata": {
    "hidden": true
   },
   "outputs": [],
   "source": [
    "bs = 11\n",
    "sz = 192\n",
    "keep_pct=1.0"
   ]
  },
  {
   "cell_type": "code",
   "execution_count": null,
   "metadata": {
    "hidden": true
   },
   "outputs": [],
   "source": [
    "learn_gen.dls = get_dls(bs, sz, keep_pct)"
   ]
  },
  {
   "cell_type": "code",
   "execution_count": null,
   "metadata": {
    "hidden": true
   },
   "outputs": [],
   "source": [
    "learn_gen.fit_one_cycle(1, pct_start=0.8, lr_max=slice(5e-8, 5e-5))"
   ]
  },
  {
   "cell_type": "code",
   "execution_count": null,
   "metadata": {
    "hidden": true
   },
   "outputs": [],
   "source": [
    "learn_gen.show_results(max_n=4)"
   ]
  },
  {
   "cell_type": "code",
   "execution_count": null,
   "metadata": {
    "hidden": true
   },
   "outputs": [],
   "source": [
    "learn_gen.save(f\"gen-pre-{sz}px\")"
   ]
  },
  {
   "cell_type": "code",
   "execution_count": null,
   "metadata": {
    "hidden": true
   },
   "outputs": [],
   "source": [
    "learn_gen.load(f\"gen-pre-{sz}px\");"
   ]
  },
  {
   "cell_type": "code",
   "execution_count": null,
   "metadata": {
    "hidden": true
   },
   "outputs": [],
   "source": [
    "bs = 12\n",
    "sz = 300\n",
    "keep_pct=1.0"
   ]
  },
  {
   "cell_type": "code",
   "execution_count": null,
   "metadata": {
    "hidden": true
   },
   "outputs": [],
   "source": [
    "learn_gen.dls = get_dls(bs, sz, keep_pct)"
   ]
  },
  {
   "cell_type": "code",
   "execution_count": null,
   "metadata": {
    "hidden": true,
    "scrolled": true
   },
   "outputs": [],
   "source": [
    "learn_gen.fit_one_cycle(1, lr_max=slice(5e-8, 5e-7))"
   ]
  },
  {
   "cell_type": "code",
   "execution_count": null,
   "metadata": {
    "hidden": true,
    "scrolled": true
   },
   "outputs": [],
   "source": [
    "# load_image('/mnt/nvme/data/demarkr/marked/27705.png')"
   ]
  },
  {
   "cell_type": "code",
   "execution_count": null,
   "metadata": {
    "hidden": true
   },
   "outputs": [],
   "source": [
    "learn_gen.show_results(max_n=4)"
   ]
  },
  {
   "cell_type": "code",
   "execution_count": null,
   "metadata": {
    "hidden": true
   },
   "outputs": [],
   "source": [
    "learn_gen.save(f\"gen-pre-{sz}px\")"
   ]
  },
  {
   "cell_type": "code",
   "execution_count": null,
   "metadata": {
    "hidden": true
   },
   "outputs": [],
   "source": [
    "bs = 6\n",
    "sz = 480\n",
    "keep_pct=1.0"
   ]
  },
  {
   "cell_type": "code",
   "execution_count": null,
   "metadata": {
    "hidden": true
   },
   "outputs": [],
   "source": [
    "learn_gen.dls = get_dls(bs, sz, keep_pct)"
   ]
  },
  {
   "cell_type": "code",
   "execution_count": null,
   "metadata": {
    "hidden": true
   },
   "outputs": [],
   "source": [
    "learn_gen.fit_one_cycle(1, lr_max=slice(5e-8, 5e-7))"
   ]
  },
  {
   "cell_type": "code",
   "execution_count": null,
   "metadata": {
    "hidden": true
   },
   "outputs": [],
   "source": [
    "learn_gen.show_results(max_n=4)"
   ]
  },
  {
   "cell_type": "code",
   "execution_count": null,
   "metadata": {
    "hidden": true
   },
   "outputs": [],
   "source": [
    "learn_gen.save(f\"gen-pre-{sz}px\")"
   ]
  },
  {
   "cell_type": "code",
   "execution_count": null,
   "metadata": {
    "hidden": true
   },
   "outputs": [],
   "source": [
    "bs = 4\n",
    "sz = 600\n",
    "keep_pct=1.0"
   ]
  },
  {
   "cell_type": "code",
   "execution_count": null,
   "metadata": {
    "hidden": true
   },
   "outputs": [],
   "source": [
    "learn_gen.dls = get_dls(bs, sz, keep_pct)"
   ]
  },
  {
   "cell_type": "code",
   "execution_count": null,
   "metadata": {
    "hidden": true
   },
   "outputs": [],
   "source": [
    "learn_gen.fit_one_cycle(1, lr_max=slice(5e-8, 5e-7))"
   ]
  },
  {
   "cell_type": "code",
   "execution_count": null,
   "metadata": {
    "hidden": true
   },
   "outputs": [],
   "source": [
    "learn_gen.show_results(max_n=4)"
   ]
  },
  {
   "cell_type": "code",
   "execution_count": null,
   "metadata": {
    "hidden": true
   },
   "outputs": [],
   "source": [
    "learn_gen.save(f\"gen-pre-{sz}px\")"
   ]
  },
  {
   "cell_type": "markdown",
   "metadata": {},
   "source": [
    "### GAN Cycle"
   ]
  },
  {
   "cell_type": "code",
   "execution_count": 3,
   "metadata": {},
   "outputs": [],
   "source": [
    "cycle_iter = 3\n",
    "prev_cycle_iter = cycle_iter - 1"
   ]
  },
  {
   "cell_type": "markdown",
   "metadata": {},
   "source": [
    "#### Save Generated Images"
   ]
  },
  {
   "cell_type": "code",
   "execution_count": 4,
   "metadata": {},
   "outputs": [],
   "source": [
    "arch = resnet34\n",
    "wd = 1e-3\n",
    "loss_gen = MSELossFlat()\n",
    "\n",
    "bs = 16\n",
    "sz = 300\n",
    "keep_pct = 0.15\n",
    "\n",
    "# create learner\n",
    "dls_gen = get_dls(bs,sz,keep_pct)\n",
    "learn_gen = create_gen_learner(dls_gen, arch, loss_gen)\n",
    "if cycle_iter == 1:\n",
    "    learn_gen.load(f\"gen-pre-{sz}px\")\n",
    "else:\n",
    "    learn_gen.load(f\"gen-{prev_cycle_iter}-{sz}\")\n",
    "\n",
    "# get dataloader\n",
    "dl = dls_gen.train.new(shuffle=False, drop_last=False, \n",
    "                       after_batch=[IntToFloatTensor, Normalize.from_stats(*imagenet_stats)])"
   ]
  },
  {
   "cell_type": "code",
   "execution_count": null,
   "metadata": {
    "scrolled": true
   },
   "outputs": [
    {
     "data": {
      "application/vnd.jupyter.widget-view+json": {
       "model_id": "8f67b0a85b83458ab1c431b483f8ce3d",
       "version_major": 2,
       "version_minor": 0
      },
      "text/plain": [
       "HBox(children=(FloatProgress(value=0.0, description='batches', max=436.0, style=ProgressStyle(description_widt…"
      ]
     },
     "metadata": {},
     "output_type": "display_data"
    }
   ],
   "source": [
    "save_preds(learn_gen, dl)"
   ]
  },
  {
   "cell_type": "markdown",
   "metadata": {},
   "source": [
    "#### Train Critic"
   ]
  },
  {
   "cell_type": "code",
   "execution_count": null,
   "metadata": {},
   "outputs": [],
   "source": [
    "learn_gen, dl = None, None\n",
    "torch.cuda.empty_cache()\n",
    "gc.collect()"
   ]
  },
  {
   "cell_type": "code",
   "execution_count": null,
   "metadata": {},
   "outputs": [],
   "source": [
    "wd = 1e-3\n",
    "loss_critic = AdaptiveLoss(nn.BCEWithLogitsLoss())"
   ]
  },
  {
   "cell_type": "markdown",
   "metadata": {},
   "source": [
    "Pretrain if `cycle_iter` is 1"
   ]
  },
  {
   "cell_type": "code",
   "execution_count": null,
   "metadata": {},
   "outputs": [],
   "source": [
    "if cycle_iter == 1:\n",
    "    # 128px\n",
    "    bs = 128\n",
    "    sz = 128\n",
    "    \n",
    "    dls_crit = get_crit_dls(bs=bs, size=sz)\n",
    "    learn_critic = create_critic_learner(dls_crit, accuracy_thresh_expand, loss_critic)\n",
    "    learn_critic.fit_one_cycle(6, 1e-3, wd=wd)\n",
    "    learn_critic.save(f\"critic-pre-{sz}px\")"
   ]
  },
  {
   "cell_type": "code",
   "execution_count": null,
   "metadata": {},
   "outputs": [],
   "source": [
    "bs = 10\n",
    "sz = 300\n",
    "\n",
    "dls_crit = get_crit_dls(bs=bs, size=sz)\n",
    "learn_critic = create_critic_learner(dls_crit, accuracy_thresh_expand, loss_critic)\n",
    "learn_critic.dls = get_crit_dls(bs=bs, size=sz)\n",
    "\n",
    "# load last model\n",
    "if cycle_iter >= 2:\n",
    "    learn_critic.load(f\"critic-pre-{sz}px\")\n",
    "else:\n",
    "    learn_critic.load(f\"critic-{cycle_iter}-{sz}\")\n",
    "\n",
    "# fit model\n",
    "learn_critic.fit_one_cycle(6, 1e-5, wd=wd)\n",
    "\n",
    "# save model\n",
    "if cycle_iter == 1:\n",
    "    learn_critic.save(f\"critic-pre-{sz}px\")\n",
    "else:\n",
    "    learn_critic.save(f\"critic-{prev_cycle_iter}-{sz}\")"
   ]
  },
  {
   "cell_type": "markdown",
   "metadata": {},
   "source": [
    "#### GAN"
   ]
  },
  {
   "cell_type": "code",
   "execution_count": null,
   "metadata": {},
   "outputs": [],
   "source": [
    "learn_critic, dls_crit = None, None\n",
    "torch.cuda.empty_cache()\n",
    "gc.collect()"
   ]
  },
  {
   "cell_type": "code",
   "execution_count": null,
   "metadata": {},
   "outputs": [],
   "source": [
    "bs = 6\n",
    "sz = 300"
   ]
  },
  {
   "cell_type": "code",
   "execution_count": null,
   "metadata": {},
   "outputs": [],
   "source": [
    "dls_crit = get_crit_dls(bs=bs, size=sz)"
   ]
  },
  {
   "cell_type": "code",
   "execution_count": null,
   "metadata": {},
   "outputs": [],
   "source": [
    "learn_crit = create_critic_learner(dls_crit, metrics=None, loss_critic=loss_critic)\n",
    "if cycle_iter == 1:\n",
    "    learn_crit.load(f\"critic-pre-{sz}px\")\n",
    "else:\n",
    "    learn_crit.load(f\"critic-{prev_cycle_iter}-{sz}\")"
   ]
  },
  {
   "cell_type": "code",
   "execution_count": null,
   "metadata": {},
   "outputs": [],
   "source": [
    "dls_gen = get_dls(bs=bs, size=sz, keep_pct=1.0)"
   ]
  },
  {
   "cell_type": "code",
   "execution_count": null,
   "metadata": {},
   "outputs": [],
   "source": [
    "keep_pct = 1.0\n",
    "arch = resnet34\n",
    "loss_gen = MSELossFlat()\n",
    "\n",
    "learn_gen = create_gen_learner(dls_gen, arch, loss_gen)\n",
    "if cycle_iter == 1:\n",
    "    learn_gen.load(f\"gen-pre-{sz}px\")\n",
    "else:\n",
    "    learn_gen.load(f\"gen-{prev_cycle_iter}-{sz}\")"
   ]
  },
  {
   "cell_type": "code",
   "execution_count": null,
   "metadata": {},
   "outputs": [],
   "source": [
    "class GANDiscriminativeLR(Callback):\n",
    "    def __init__(self, mult_lr=5.):\n",
    "        self.mult_lr = mult_lr\n",
    "        \n",
    "    def begin_batch(self):\n",
    "        if not self.learn.gan_trainer.gen_mode and self.training:\n",
    "            self.learn.opt.set_hyper('lr', learn.opt.hypers[0]['lr']*self.mult_lr)\n",
    "    \n",
    "    def after_batch(self):\n",
    "        if not self.learn.gan_trainer.gen_mode:\n",
    "            self.learn.opt.set_hyper('lr', learn.opt.hypers[0]['lr']/self.mult_lr)"
   ]
  },
  {
   "cell_type": "code",
   "execution_count": null,
   "metadata": {},
   "outputs": [],
   "source": [
    "class GANSaveCallback(Callback):\n",
    "    def __init__(self, learn_gen: Learner, iteration: int):\n",
    "        self.learn_gen = learn_gen\n",
    "        self.iteration = iteration\n",
    "        \n",
    "    def after_fit(self):\n",
    "        self._save_gen_learner()\n",
    "        \n",
    "    def _save_gen_learner(self):\n",
    "        sz = self. learn.dls.loaders[0].after_item[0].final_size[0]\n",
    "        self.learn_gen.save(f\"gen-{self.iteration}-{sz}\")"
   ]
  },
  {
   "cell_type": "code",
   "execution_count": null,
   "metadata": {},
   "outputs": [],
   "source": [
    "switcher = AdaptiveGANSwitcher(critic_thresh=0.65)\n",
    "learn = GANLearner.from_learners(\n",
    "    learn_gen, learn_crit, weights_gen=(1.,50.), show_img=False, switcher=switcher, \n",
    "    opt_func=partial(Adam, mom=0.), \n",
    "    cbs=[GANDiscriminativeLR(mult_lr=5.), GANSaveCallback(learn_gen, cycle_iter)])"
   ]
  },
  {
   "cell_type": "code",
   "execution_count": null,
   "metadata": {},
   "outputs": [],
   "source": [
    "lr = 1e-5"
   ]
  },
  {
   "cell_type": "code",
   "execution_count": null,
   "metadata": {},
   "outputs": [],
   "source": [
    "learn_gen.freeze_to(-1)"
   ]
  },
  {
   "cell_type": "code",
   "execution_count": null,
   "metadata": {},
   "outputs": [],
   "source": [
    "learn.fit(1, lr, wd=wd)"
   ]
  },
  {
   "cell_type": "code",
   "execution_count": null,
   "metadata": {},
   "outputs": [],
   "source": [
    "learn.show_results(max_n=4)"
   ]
  },
  {
   "cell_type": "code",
   "execution_count": null,
   "metadata": {},
   "outputs": [],
   "source": []
  },
  {
   "cell_type": "code",
   "execution_count": null,
   "metadata": {},
   "outputs": [],
   "source": []
  },
  {
   "cell_type": "markdown",
   "metadata": {},
   "source": [
    "## Callback Testing"
   ]
  },
  {
   "cell_type": "code",
   "execution_count": null,
   "metadata": {},
   "outputs": [],
   "source": []
  },
  {
   "cell_type": "code",
   "execution_count": null,
   "metadata": {},
   "outputs": [],
   "source": []
  },
  {
   "cell_type": "code",
   "execution_count": null,
   "metadata": {},
   "outputs": [],
   "source": [
    "TstLearner"
   ]
  },
  {
   "cell_type": "code",
   "execution_count": null,
   "metadata": {},
   "outputs": [],
   "source": []
  },
  {
   "cell_type": "code",
   "execution_count": null,
   "metadata": {},
   "outputs": [],
   "source": []
  },
  {
   "cell_type": "code",
   "execution_count": null,
   "metadata": {},
   "outputs": [],
   "source": []
  },
  {
   "cell_type": "code",
   "execution_count": null,
   "metadata": {},
   "outputs": [],
   "source": []
  },
  {
   "cell_type": "markdown",
   "metadata": {},
   "source": [
    "## Inference"
   ]
  },
  {
   "cell_type": "code",
   "execution_count": null,
   "metadata": {
    "scrolled": true
   },
   "outputs": [],
   "source": [
    "img_fp = Path(DATA/\"real_world\"/\"watermarked_dude_300px.png\")\n",
    "img = Image.open(img_fp)\n",
    "display(img, img.shape)"
   ]
  },
  {
   "cell_type": "code",
   "execution_count": null,
   "metadata": {},
   "outputs": [],
   "source": [
    "gen_models = [model.name.split(\".\")[0] for model in Path(DATA/\"models\").ls() if \"gen\" in str(model) and \"300\" in str(model)]\n",
    "gen_models.sort()\n",
    "gen_models"
   ]
  },
  {
   "cell_type": "code",
   "execution_count": null,
   "metadata": {},
   "outputs": [],
   "source": [
    "keep_pct = 1.0\n",
    "arch = resnet34\n",
    "loss_gen = MSELossFlat()\n",
    "\n",
    "learn_gen = create_gen_learner(dls_gen, arch, loss_gen)\n",
    "preds = dict()\n",
    "\n",
    "for model in gen_models:\n",
    "    print(\"predicting for model\", model)\n",
    "    learn_gen.load(model)\n",
    "    learn_gen.predict(img_fp)\n",
    "    \n",
    "    pred = learn_gen.predict(DATA/\"real_world\"/\"watermarked_dude.png\")\n",
    "    dec = learn_gen.dls.after_batch.decode((TensorImage(pred[1].to('cpu')[None]),))[0][0]\n",
    "    arr = dec.numpy().transpose(1,2,0)\n",
    "    preds[model] = Image.fromarray(np.uint8(arr), mode='RGB')"
   ]
  },
  {
   "cell_type": "code",
   "execution_count": null,
   "metadata": {},
   "outputs": [],
   "source": [
    "for item in preds.items():\n",
    "    display(item[0],item[1])"
   ]
  },
  {
   "cell_type": "code",
   "execution_count": null,
   "metadata": {},
   "outputs": [],
   "source": []
  },
  {
   "cell_type": "markdown",
   "metadata": {},
   "source": [
    "gan pred"
   ]
  },
  {
   "cell_type": "markdown",
   "metadata": {},
   "source": [
    "learn_gen pred"
   ]
  },
  {
   "cell_type": "code",
   "execution_count": null,
   "metadata": {
    "scrolled": true
   },
   "outputs": [],
   "source": [
    "pred = learn_gen.predict(DATA/\"real_world\"/\"watermarked_dude.png\")\n",
    "dec = learn_gen.dls.after_batch.decode((TensorImage(pred[1].to('cpu')[None]),))[0][0]\n",
    "arr = dec.numpy().transpose(1,2,0)\n",
    "Image.fromarray(np.uint8(arr), mode='RGB')"
   ]
  },
  {
   "cell_type": "code",
   "execution_count": null,
   "metadata": {},
   "outputs": [],
   "source": []
  },
  {
   "cell_type": "code",
   "execution_count": null,
   "metadata": {},
   "outputs": [],
   "source": []
  },
  {
   "cell_type": "code",
   "execution_count": null,
   "metadata": {},
   "outputs": [],
   "source": []
  },
  {
   "cell_type": "code",
   "execution_count": null,
   "metadata": {},
   "outputs": [],
   "source": []
  },
  {
   "cell_type": "code",
   "execution_count": null,
   "metadata": {},
   "outputs": [],
   "source": []
  },
  {
   "cell_type": "code",
   "execution_count": null,
   "metadata": {},
   "outputs": [],
   "source": []
  },
  {
   "cell_type": "code",
   "execution_count": null,
   "metadata": {},
   "outputs": [],
   "source": []
  },
  {
   "cell_type": "code",
   "execution_count": null,
   "metadata": {},
   "outputs": [],
   "source": []
  },
  {
   "cell_type": "code",
   "execution_count": null,
   "metadata": {},
   "outputs": [],
   "source": []
  },
  {
   "cell_type": "code",
   "execution_count": null,
   "metadata": {},
   "outputs": [],
   "source": []
  },
  {
   "cell_type": "code",
   "execution_count": null,
   "metadata": {},
   "outputs": [],
   "source": []
  },
  {
   "cell_type": "code",
   "execution_count": null,
   "metadata": {},
   "outputs": [],
   "source": []
  },
  {
   "cell_type": "code",
   "execution_count": null,
   "metadata": {},
   "outputs": [],
   "source": []
  }
 ],
 "metadata": {
  "kernelspec": {
   "display_name": "Python 3",
   "language": "python",
   "name": "python3"
  },
  "language_info": {
   "codemirror_mode": {
    "name": "ipython",
    "version": 3
   },
   "file_extension": ".py",
   "mimetype": "text/x-python",
   "name": "python",
   "nbconvert_exporter": "python",
   "pygments_lexer": "ipython3",
   "version": "3.7.6"
  }
 },
 "nbformat": 4,
 "nbformat_minor": 4
}
